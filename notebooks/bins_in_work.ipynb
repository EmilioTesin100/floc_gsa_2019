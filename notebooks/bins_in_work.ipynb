{
 "cells": [
  {
   "cell_type": "code",
   "execution_count": null,
   "metadata": {},
   "outputs": [],
   "source": []
  },
  {
   "cell_type": "markdown",
   "metadata": {},
   "source": [
    "# bins"
   ]
  },
  {
   "cell_type": "code",
   "execution_count": null,
   "metadata": {},
   "outputs": [],
   "source": [
    "import pandas as pd\n",
    "import numpy as np"
   ]
  },
  {
   "cell_type": "code",
   "execution_count": null,
   "metadata": {},
   "outputs": [],
   "source": []
  },
  {
   "cell_type": "code",
   "execution_count": null,
   "metadata": {},
   "outputs": [],
   "source": [
    "import json\n",
    "import pandas as pd\n",
    "import pickle"
   ]
  },
  {
   "cell_type": "code",
   "execution_count": null,
   "metadata": {},
   "outputs": [],
   "source": [
    "results = pd.read_pickle('/home/jovyan/floc_gsa_2019/regions_results_for_dep_5.pickle')"
   ]
  },
  {
   "cell_type": "code",
   "execution_count": null,
   "metadata": {},
   "outputs": [],
   "source": [
    "results_dep5.head()"
   ]
  },
  {
   "cell_type": "markdown",
   "metadata": {},
   "source": [
    "## code used to explore raw floc size distribtion over time"
   ]
  },
  {
   "cell_type": "code",
   "execution_count": null,
   "metadata": {},
   "outputs": [],
   "source": [
    "#### (if you want to try to filter the data) for i, row in scene_windows[scene_windows.deployment == 5].iterrows():\n",
    "\n",
    "x_time = []\n",
    "y_stats = []\n",
    "results = pd.read_pickle('/home/jovyan/floc_gsa_2019/regions_results_for_dep_5.pickle')\n",
    "for i, row in results.iterrows():\n",
    "    for stats in row.label_stats:\n",
    "        x_time.append(row.datetime)\n",
    "        y_stats.append(stats)"
   ]
  },
  {
   "cell_type": "code",
   "execution_count": null,
   "metadata": {},
   "outputs": [],
   "source": [
    "regions_results = pd.DataFrame({'x_time': x_time, 'y_stats': y_stats})"
   ]
  },
  {
   "cell_type": "code",
   "execution_count": null,
   "metadata": {},
   "outputs": [],
   "source": [
    "max(y_stats)"
   ]
  },
  {
   "cell_type": "code",
   "execution_count": null,
   "metadata": {},
   "outputs": [],
   "source": [
    "import datetime, math\n",
    "import matplotlib.dates as dates\n",
    "import json\n",
    "import pandas as pd\n",
    "import hvplot.pandas;"
   ]
  },
  {
   "cell_type": "code",
   "execution_count": null,
   "metadata": {},
   "outputs": [],
   "source": [
    "import hvplot \n",
    "regions_results.hvplot.scatter(x='x_time', y='y_stats', dynspread=True, datashade=False, width=720, height=500)"
   ]
  },
  {
   "cell_type": "code",
   "execution_count": null,
   "metadata": {},
   "outputs": [],
   "source": [
    "# Bin the data frame by \"a\" with 10 bins...\n",
    "bins = np.linspace(regions_results.y_stats.min(), regions_results.y_stats.max(), 100)\n",
    "groups = regions_results.groupby(pd.cut(regions_results.y_stats, bins))\n",
    "\n",
    "# Get the mean of b, binned by the values in a\n",
    "# print groups.mean().y_stat"
   ]
  },
  {
   "cell_type": "code",
   "execution_count": null,
   "metadata": {},
   "outputs": [],
   "source": [
    "bins"
   ]
  },
  {
   "cell_type": "code",
   "execution_count": null,
   "metadata": {},
   "outputs": [],
   "source": [
    "#### 3000 because it is weighted to 3000\n",
    "bins = np.linspace(regions_results.y_stats.min(), regions_results.y_stats.max(), 100)\n",
    "s = pd.cut(regions_results['y_stats'], bins=bins).value_counts()\n",
    "print (s)"
   ]
  },
  {
   "cell_type": "code",
   "execution_count": null,
   "metadata": {},
   "outputs": [],
   "source": [
    "bins = np.linspace(regions_results.y_stats.min(), regions_results.y_stats.max(), 100)\n",
    "s = pd.cut(regions_results['y_stats'], bins=bins).value_counts()\n",
    "print (s)"
   ]
  }
 ],
 "metadata": {
  "kernelspec": {
   "display_name": "Python 3",
   "language": "python",
   "name": "python3"
  },
  "language_info": {
   "codemirror_mode": {
    "name": "ipython",
    "version": 3
   },
   "file_extension": ".py",
   "mimetype": "text/x-python",
   "name": "python",
   "nbconvert_exporter": "python",
   "pygments_lexer": "ipython3",
   "version": "3.6.6"
  }
 },
 "nbformat": 4,
 "nbformat_minor": 2
}
